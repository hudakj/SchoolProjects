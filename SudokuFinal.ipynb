{
 "cells": [
  {
   "cell_type": "code",
   "execution_count": 31,
   "id": "79f2cee9-6f0d-43a4-8ea4-0fd3db3dc50b",
   "metadata": {},
   "outputs": [],
   "source": [
    "import random\n",
    "import copy\n",
    "import time"
   ]
  },
  {
   "cell_type": "markdown",
   "id": "f48ab1b7-4a63-4fc5-b46a-17229265d915",
   "metadata": {},
   "source": [
    "### Class: `cell`\r\n",
    "- **Purpose**: Represents a single cell in a Sudoku grid, encapsulating all properties and behaviors of a Sudoku cell.\r\n",
    "- **Methods**:\r\n",
    "  - `__init__(self, position)`: Initializes the cell with a set of all possible answers (1-9), an unset answer, a positional tuple for grid placement, and marks the cell as unsolved.\r\n",
    "  - `remove(self, num)`: Removes a number from the possible answers list if the number is invalid based on Sudoku rules, automatically solving the cell if only one possibility remains.\r\n",
    "  - `solvedMethod(self)`: Returns a boolean indicating whether the cell is solved.\r\n",
    "  - `checkPosition(self)`: Returns the cell's positional tuple, helping identify its row, column, and block.\r\n",
    "  - `returnPossible(self)`: Returns the list of possible answers for the cell.\r\n",
    "  - `lenOfPossible(self)`: Returns the number of possible answers remaining for the cell.\r\n",
    "  - `returnSolved(self)`: Returns the cell's answer if solved, otherwise returns 0.\r\n",
    "  - `setAnswer(self, num)`: Directly sets the cell's answer if the given number is valid, marking it as solved.\r\n",
    "  - `reset(self)`: Resets the cell to its initial state, clearing any set answer and marking it as unsolved.\r\n"
   ]
  },
  {
   "cell_type": "code",
   "execution_count": 32,
   "id": "7583784b-e5f7-4b2f-a06f-fc1f4eddd899",
   "metadata": {},
   "outputs": [],
   "source": [
    "class cell():\n",
    "    # This class structure and methods are inspired by or based on a Sudoku solver implementation by Joe Karlsson.\n",
    "    def __init__(self, position):\n",
    "        self.possibleAnswers = [1, 2, 3, 4, 5, 6, 7, 8, 9]\n",
    "        self.answer = None\n",
    "        self.position = position\n",
    "        self.solved = False\n",
    "\n",
    "    def remove(self, num):\n",
    "        if num in self.possibleAnswers and not self.solved:\n",
    "            self.possibleAnswers.remove(num)\n",
    "            if len(self.possibleAnswers) == 1:\n",
    "                self.answer = self.possibleAnswers[0]\n",
    "                self.solved = True\n",
    "\n",
    "    def solvedMethod(self):\n",
    "        return self.solved\n",
    "\n",
    "    def checkPosition(self):\n",
    "        return self.position\n",
    "\n",
    "    def returnPossible(self):\n",
    "        return self.possibleAnswers\n",
    "\n",
    "    def lenOfPossible(self):\n",
    "        return len(self.possibleAnswers)\n",
    "\n",
    "    def returnSolved(self):\n",
    "        return self.possibleAnswers[0] if self.solved else 0\n",
    "\n",
    "    def setAnswer(self, num):\n",
    "        if num in [1, 2, 3, 4, 5, 6, 7, 8, 9]:\n",
    "            self.solved = True\n",
    "            self.answer = num\n",
    "            self.possibleAnswers = [num]\n",
    "        else:\n",
    "            raise ValueError(\"Invalid number\")\n",
    "\n",
    "    def reset(self):\n",
    "        self.possibleAnswers = [1, 2, 3, 4, 5, 6, 7, 8, 9]\n",
    "        self.answer = None\n",
    "        self.solved = False\n"
   ]
  },
  {
   "cell_type": "markdown",
   "id": "e20ead5b-a62f-493d-81a2-3ec772963832",
   "metadata": {},
   "source": [
    "### Function: `emptySudoku()`\n",
    "- **Purpose**: Creates a 9x9 grid of cell objects, each initialized in an unsolved state, representing an empty Sudoku board."
   ]
  },
  {
   "cell_type": "code",
   "execution_count": 33,
   "id": "3554ed48-4432-4c70-8b85-d597b077023e",
   "metadata": {},
   "outputs": [],
   "source": [
    "def emptySudoku():\n",
    "    ans = []\n",
    "    for x in range(1, 10):\n",
    "        intz = 1 + (x-1)//3 * 3\n",
    "        for y in range(1, 10):\n",
    "            z = intz + (y-1)//3\n",
    "            c = cell((x, y, z))\n",
    "            ans.append(c)\n",
    "    return ans"
   ]
  },
  {
   "cell_type": "markdown",
   "id": "5828d3fd-8f12-483d-8055-9f7abf8e9ec7",
   "metadata": {},
   "source": [
    "### Function: `printSudoku(sudoku)`\n",
    "- **Purpose**: Prints the current state of the Sudoku grid in a formatted manner, enhancing readability with lines separating the 3x3 blocks."
   ]
  },
  {
   "cell_type": "code",
   "execution_count": 34,
   "id": "e559de26-4b08-446f-b375-e3219faf2d4f",
   "metadata": {},
   "outputs": [],
   "source": [
    "def printSudoku(sudoku):\n",
    "    # Print the top border of the grid\n",
    "    print(\"+-------+-------+-------+\")\n",
    "    for row in range(9):\n",
    "        if row % 3 == 0 and row != 0:\n",
    "            print(\"|-------+-------+-------|\")  # Print horizontal separators for blocks every three rows\n",
    "        line = \"\"\n",
    "        for col in range(9):\n",
    "            num = sudoku[col + row * 9].returnSolved()\n",
    "            num = ' ' if num == 0 else num  # Display unsolved cells as spaces\n",
    "            if col % 3 == 0:\n",
    "                line += \"| \"  # Start of a new block\n",
    "            line += f\"{num} \"  # Add the number with a space\n",
    "            if col == 8:\n",
    "                line += \"|\"  # Close the Sudoku line at the end\n",
    "        print(line)\n",
    "    print(\"+-------+-------+-------+\")  # Print the bottom border of the grid"
   ]
  },
  {
   "cell_type": "markdown",
   "id": "a3b6e06c-3947-4bd8-8e10-9e80e378c13a",
   "metadata": {},
   "source": [
    "### Function: `sudokuGen()`\r\n",
    "- **Purpose**: Generates a complete, solvable Sudoku grid by filling in an empty grid while adhering to Sudoku rules.\r\n",
    "- **Details**: Employs a heuristic of selecting cells with the fewest possible numbers to minimize complexity and potential errors during generation."
   ]
  },
  {
   "cell_type": "code",
   "execution_count": 35,
   "id": "5bffebb1-1099-4f93-9332-c82e96601bd2",
   "metadata": {},
   "outputs": [],
   "source": [
    "def sudokuGen():\n",
    "     # Sudoku generation logic based on an algorithm by Joe Karlsson.\n",
    "    # This implementation also uses a technique of selecting cells with the minimum possible answers to reduce complexity.\n",
    "    \n",
    "    cells = list(range(81))\n",
    "    sudoku = emptySudoku()\n",
    "    while cells:\n",
    "        lowestNum = [sudoku[i].lenOfPossible() for i in cells]\n",
    "        m = min(lowestNum)\n",
    "        Lowest = [sudoku[i] for i in cells if sudoku[i].lenOfPossible() == m]\n",
    "        choiceElement = random.choice(Lowest)\n",
    "        choiceIndex = sudoku.index(choiceElement)\n",
    "        cells.remove(choiceIndex)\n",
    "        position1 = choiceElement.checkPosition()\n",
    "        possibleValues = choiceElement.returnPossible()\n",
    "        finalValue = random.choice(possibleValues)\n",
    "        choiceElement.setAnswer(finalValue)\n",
    "        for i in cells:\n",
    "            position2 = sudoku[i].checkPosition()\n",
    "            if position1[0] == position2[0] or position1[1] == position2[1] or position1[2] == position2[2]:\n",
    "                sudoku[i].remove(finalValue)\n",
    "    return sudoku"
   ]
  },
  {
   "cell_type": "markdown",
   "id": "05c02cd9-43ec-4b28-81e6-08400811c20c",
   "metadata": {},
   "source": [
    "### Function: `sudokuChecker(sudoku)`\n",
    "- **Purpose**: Validates a completed Sudoku grid to ensure all Sudoku rules are followed without any rule violations.\n",
    "- **Details**: Checks every cell against every other cell for duplications in their respective rows, columns, and blocks."
   ]
  },
  {
   "cell_type": "code",
   "execution_count": 36,
   "id": "9337fe8d-a906-40e6-8947-b32810c8d02f",
   "metadata": {},
   "outputs": [],
   "source": [
    "def sudokuChecker(sudoku):\n",
    "    # The approach to checking the validity of the Sudoku grid is based on techniques from Joe Karlsson.\n",
    "    for i in range(len(sudoku)):  # Ensure 'i' is defined in a loop\n",
    "        for n in range(len(sudoku)):\n",
    "            if i != n:\n",
    "                position1 = sudoku[i].checkPosition()\n",
    "                position2 = sudoku[n].checkPosition()\n",
    "                if position1[0] == position2[0] or position1[1] == position2[1] or position1[2] == position2[2]:\n",
    "                    num1 = sudoku[i].returnSolved()\n",
    "                    num2 = sudoku[n].returnSolved()\n",
    "                    if num1 == num2:\n",
    "                        return False\n",
    "    return True"
   ]
  },
  {
   "cell_type": "markdown",
   "id": "00f79582-24b5-46a2-956b-08b4aa702672",
   "metadata": {},
   "source": [
    "### Function: `perfectSudoku()`\r\n",
    "- **Purpose**: Ensures the generation of a valid Sudoku puzzle by repeatedly generating and checking grids until a valid one is produced."
   ]
  },
  {
   "cell_type": "code",
   "execution_count": 37,
   "id": "96fcf8b7-e616-4aa1-a633-05455b03955e",
   "metadata": {},
   "outputs": [],
   "source": [
    "def perfectSudoku():\n",
    "    result = False\n",
    "    while not result:\n",
    "        s = sudokuGen()\n",
    "        result = sudokuChecker(s)\n",
    "    return s"
   ]
  },
  {
   "cell_type": "markdown",
   "id": "2be1fea2-01e5-4712-8c80-ecc3c4b82f2e",
   "metadata": {},
   "source": [
    "### Function: `solver(sudoku, f=0)`\r\n",
    "- **Purpose**: Attempts to solve a Sudoku puzzle using a combination of backtracking and constraint propagation, suitable for puzzles with varying levels of difficulty.\r\n",
    "- **Details**: Applies logical deductions to solve cells where possible, and uses guessing (backtracking) where necessary, tracking the number of guesses to assess difficulty."
   ]
  },
  {
   "cell_type": "code",
   "execution_count": 38,
   "id": "e8127dc9-9713-49fc-a3d3-48582f587164",
   "metadata": {},
   "outputs": [],
   "source": [
    "def solver(sudoku, f=0):\n",
    "     # This solver function is inspired by Joe Karlsson's method of backtracking.\n",
    "    # Modifications and optimizations have been made to improve on code\n",
    "    if f > 900:\n",
    "        return False\n",
    "    guesses = 0\n",
    "    copy_s = copy.deepcopy(sudoku)\n",
    "    cells = list(range(81))\n",
    "    solvedCells = [i for i in cells if copy_s[i].lenOfPossible() == 1]\n",
    "    while solvedCells:\n",
    "        n = solvedCells.pop(0)\n",
    "        cell = copy_s[n]\n",
    "        position1 = cell.checkPosition()\n",
    "        finalValue = cell.returnSolved()\n",
    "        for i in cells:\n",
    "            position2 = copy_s[i].checkPosition()\n",
    "            if position1[0] == position2[0] or position1[1] == position2[1] or position1[2] == position2[2]:\n",
    "                if copy_s[i].remove(finalValue) and copy_s[i].lenOfPossible() == 1 and i not in solvedCells:\n",
    "                    solvedCells.append(i)\n",
    "        cells.remove(n)\n",
    "        if not cells:\n",
    "            break\n",
    "        if not solvedCells:\n",
    "            lowestNum = [copy_s[i].lenOfPossible() for i in cells]\n",
    "            m = min(lowestNum)\n",
    "            lowest = [i for i in cells if copy_s[i].lenOfPossible() == m]\n",
    "            randCell = random.choice(lowest)\n",
    "            randGuess = random.choice(copy_s[randCell].returnPossible())\n",
    "            copy_s[randCell].setAnswer(randGuess)\n",
    "            solvedCells.append(randCell)\n",
    "            guesses += 1\n",
    "    if sudokuChecker(copy_s):\n",
    "        level = 'Easy' if guesses == 0 else 'Medium' if guesses <= 2 else 'Hard' if guesses <= 7 else 'Insane'\n",
    "        return copy_s, guesses, level\n",
    "    else:\n",
    "        return solver(sudoku, f + 1)\n"
   ]
  },
  {
   "cell_type": "markdown",
   "id": "9dac45f0-b2a3-4eb8-b833-3aef779bd97b",
   "metadata": {},
   "source": [
    "### Function: `solve(sudoku)`\n",
    "- **Purpose**: Acts as a wrapper for the `solver` function, managing its outputs and providing a structured result including the solved grid, guess count, and a guess log."
   ]
  },
  {
   "cell_type": "code",
   "execution_count": 39,
   "id": "ae9eff97-d62c-44ec-a36b-757e9064a3b1",
   "metadata": {},
   "outputs": [],
   "source": [
    "def solve(sudoku):\n",
    "    s = solver(sudoku)\n",
    "    if s:\n",
    "        return s\n",
    "    else:\n",
    "        return False"
   ]
  },
  {
   "cell_type": "markdown",
   "id": "088c60e2-7bb0-436d-8acb-c24d1dd85e2e",
   "metadata": {},
   "source": [
    "### Function: remove_numbers\r\n",
    "- **Description**: Creates a Sudoku puzzle from a completed grid by strategically removing numbers.\r\n"
   ]
  },
  {
   "cell_type": "code",
   "execution_count": 40,
   "id": "b9b83047-744a-401d-89a5-f44267fbe2ae",
   "metadata": {},
   "outputs": [],
   "source": [
    "def remove_numbers(sudoku, hints=36):\n",
    "    \"\"\" Remove numbers to create a puzzle with 'hints' clues. \"\"\"\n",
    "    positions = list(range(81))\n",
    "    random.shuffle(positions)\n",
    "    removed = 81 - hints\n",
    "    count = 0\n",
    "    while count < removed:\n",
    "        pos = positions.pop()\n",
    "        row, col, _ = sudoku[pos].checkPosition()\n",
    "        temp = sudoku[pos].returnSolved()\n",
    "        sudoku[pos].reset()\n",
    "        # Test if the puzzle remains solvable uniquely after this removal\n",
    "        if not solve(copy.deepcopy(sudoku))[0]:\n",
    "            sudoku[pos].setAnswer(temp)  # Put back the number if not solvable\n",
    "        else:\n",
    "            count += 1\n",
    "    return sudoku\n"
   ]
  },
  {
   "cell_type": "markdown",
   "id": "1b433c93-85de-4245-a2f9-6e67185a5adf",
   "metadata": {},
   "source": [
    "### Function: `prompt_to_solve(sudoku)`\n",
    "- **Purpose**: Interfaces with the user, displaying the unsolved puzzle and asking for input to proceed with solving, thereafter showing the solved puzzle and related information."
   ]
  },
  {
   "cell_type": "code",
   "execution_count": 41,
   "id": "e195f935-c94f-4171-87c5-c7d5a3364df4",
   "metadata": {},
   "outputs": [],
   "source": [
    "def prompt_to_solve(sudoku):\n",
    "    print(\"Here's the unsolved Sudoku puzzle:\")\n",
    "    printSudoku(sudoku)\n",
    "    input(\"Type 'Finish' to solve: \")\n",
    "    solved_puzzle, guesses, level = solve(copy.deepcopy(sudoku))\n",
    "    print(\"Solved Puzzle:\")\n",
    "    printSudoku(solved_puzzle)\n",
    "    print(f\"Guesses: {guesses}\")"
   ]
  },
  {
   "cell_type": "markdown",
   "id": "76ccaf13-0e4a-49ea-a9b7-454aa766c9d2",
   "metadata": {},
   "source": [
    "### Function: `puzzleGen(difficulty)`\n",
    "- **Purpose**: Generates a Sudoku puzzle of a specified difficulty by controlling the number of clues (hints) provided in the puzzle."
   ]
  },
  {
   "cell_type": "code",
   "execution_count": 42,
   "id": "605afd40-1590-41e2-91a5-af5e59cd7244",
   "metadata": {},
   "outputs": [],
   "source": [
    "def puzzleGen(difficulty):\n",
    "    \"\"\" Generate an unsolved puzzle based on difficulty. \"\"\"\n",
    "    solved_puzzle = perfectSudoku()\n",
    "    if difficulty == 'Easy':\n",
    "        return remove_numbers(solved_puzzle, hints=40)\n",
    "    elif difficulty == 'Medium':\n",
    "        return remove_numbers(solved_puzzle, hints=34)\n",
    "    elif difficulty == 'Hard':\n",
    "        return remove_numbers(solved_puzzle, hints=28)\n",
    "    elif difficulty == 'Insane':\n",
    "        return remove_numbers(solved_puzzle, hints=22)\n"
   ]
  },
  {
   "cell_type": "markdown",
   "id": "90a592ac-21a0-4e4e-a0c7-6a0a26b7189e",
   "metadata": {},
   "source": [
    "### Function: `main(level)`\n",
    "- **Purpose**: Main function to run the entire Sudoku puzzle generation and solving process based on the difficulty level chosen by the user."
   ]
  },
  {
   "cell_type": "code",
   "execution_count": 43,
   "id": "e1d80169-41a8-417d-86ab-91b1459b729c",
   "metadata": {},
   "outputs": [],
   "source": [
    "def main(level):\n",
    "    unsolved_puzzle = puzzleGen(level)\n",
    "    prompt_to_solve(unsolved_puzzle)"
   ]
  },
  {
   "cell_type": "markdown",
   "id": "7b998fc7-2439-4b23-9025-8fc302c6360f",
   "metadata": {},
   "source": [
    "### Function: `choose_level()`\n",
    "- **Purpose**: Allows the user to select the difficulty level of the Sudoku puzzle, ensuring user input is valid before proceeding."
   ]
  },
  {
   "cell_type": "code",
   "execution_count": 44,
   "id": "4ed78369-e3ae-41c5-b061-e9b697c02284",
   "metadata": {},
   "outputs": [
    {
     "name": "stdin",
     "output_type": "stream",
     "text": [
      "Choose the level of difficulty (Easy/Medium/Hard/Insane):  Easy\n"
     ]
    },
    {
     "name": "stdout",
     "output_type": "stream",
     "text": [
      "Here's the unsolved Sudoku puzzle:\n",
      "+-------+-------+-------+\n",
      "| 8   5 | 2   7 |     1 |\n",
      "|       | 4   6 | 5     |\n",
      "| 7 6   | 9 1   |       |\n",
      "|-------+-------+-------|\n",
      "|       |       |   3 2 |\n",
      "| 1 5 9 | 3 2 4 |   6   |\n",
      "|       | 7   1 | 9 4 5 |\n",
      "|-------+-------+-------|\n",
      "|       | 1 7 9 | 3 5 6 |\n",
      "|   3   |   4   | 7   9 |\n",
      "| 9   7 | 6     |     8 |\n",
      "+-------+-------+-------+\n"
     ]
    },
    {
     "name": "stdin",
     "output_type": "stream",
     "text": [
      "Type 'Finish' to solve:  Finish\n"
     ]
    },
    {
     "name": "stdout",
     "output_type": "stream",
     "text": [
      "Solved Puzzle:\n",
      "+-------+-------+-------+\n",
      "| 8 4 5 | 2 3 7 | 6 9 1 |\n",
      "| 2 9 1 | 4 8 6 | 5 7 3 |\n",
      "| 7 6 3 | 9 1 5 | 2 8 4 |\n",
      "|-------+-------+-------|\n",
      "| 6 7 4 | 5 9 8 | 1 3 2 |\n",
      "| 1 5 9 | 3 2 4 | 8 6 7 |\n",
      "| 3 8 2 | 7 6 1 | 9 4 5 |\n",
      "|-------+-------+-------|\n",
      "| 4 2 8 | 1 7 9 | 3 5 6 |\n",
      "| 5 3 6 | 8 4 2 | 7 1 9 |\n",
      "| 9 1 7 | 6 5 3 | 4 2 8 |\n",
      "+-------+-------+-------+\n",
      "Guesses: 41\n"
     ]
    }
   ],
   "source": [
    "def choose_level():\n",
    "    while True:\n",
    "        level = input(\"Choose the level of difficulty (Easy/Medium/Hard/Insane): \").capitalize()\n",
    "        if level in ['Easy', 'Medium', 'Hard', 'Insane']:\n",
    "            break\n",
    "        print(\"Invalid difficulty level. Please choose from Easy, Medium, Hard, or Insane.\")\n",
    "    return level\n",
    "\n",
    "if __name__ == \"__main__\":\n",
    "    level = choose_level()\n",
    "    main(level)\n"
   ]
  },
  {
   "cell_type": "markdown",
   "id": "2aa47869-862c-4102-8fed-259a7480f60d",
   "metadata": {},
   "source": [
    "## Credits and Acknowledgments\n",
    "\n",
    "This implementation of a sudoku solver is inspired by Joe Karlsson's sudoku code. His code was used as a baseline to work with and improve off of.\r\n",
    "\r\n",
    "- **Cell Class Design**: The structure and methods within the `cell` class, including but not limited to `remove`, `solvedMethod`, `setAnswer`, and `reset`, are inspired by Joe Karlsson's approach to managing Sudoku cells and their possible values.\r\n",
    "\r\n",
    "- **Sudoku Grid Initialization**: The method used to initialize the Sudoku grid with appropriate box assignments based on row and column calculations is adapted from techniques popularized by Joe Karlsson\n",
    "\n",
    "- **Solver Logic**: The solver's use of backtracking to resolve the Sudoku puzzles has been inspired by strategies used by Joe Karlsson.\r"
   ]
  }
 ],
 "metadata": {
  "kernelspec": {
   "display_name": "Python 3 (ipykernel)",
   "language": "python",
   "name": "python3"
  },
  "language_info": {
   "codemirror_mode": {
    "name": "ipython",
    "version": 3
   },
   "file_extension": ".py",
   "mimetype": "text/x-python",
   "name": "python",
   "nbconvert_exporter": "python",
   "pygments_lexer": "ipython3",
   "version": "3.11.5"
  }
 },
 "nbformat": 4,
 "nbformat_minor": 5
}
